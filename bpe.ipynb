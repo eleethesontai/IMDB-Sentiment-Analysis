{
 "cells": [
  {
   "cell_type": "code",
   "execution_count": 7,
   "metadata": {},
   "outputs": [],
   "source": [
    "import pandas as pd\n",
    "import numpy as np\n",
    "import h5py\n",
    "import itertools"
   ]
  },
  {
   "cell_type": "code",
   "execution_count": null,
   "metadata": {},
   "outputs": [],
   "source": [
    "samples = pd.read_csv('Reviews.csv')\n",
    "max = samples['Review'].apply(len).max()\n",
    "\n",
    "max"
   ]
  },
  {
   "cell_type": "code",
   "execution_count": 24,
   "metadata": {},
   "outputs": [
    {
     "data": {
      "text/plain": [
       "209"
      ]
     },
     "execution_count": 24,
     "metadata": {},
     "output_type": "execute_result"
    }
   ],
   "source": [
    "unique = sorted(list(set(itertools.chain.from_iterable(samples['Review']))), key=lambda x: ord(x[0]))\n",
    "vocabulary = {\"<EOS>\":0,\"<PAD>\":1,\"<OOV>\":2} | {unique[i]:i+3 for i in range(len(unique))}\n",
    "\n",
    "len(vocabulary)"
   ]
  },
  {
   "cell_type": "code",
   "execution_count": 22,
   "metadata": {},
   "outputs": [
    {
     "data": {
      "text/plain": [
       "0        [60, 84, 87, 80, 78, 83, 76, 5, 92, 78, 89, 77...\n",
       "1        [60, 74, 81, 81, 19, 19, 19, 89, 87, 74, 82, 8...\n",
       "2        [52, 90, 72, 77, 6, 5, 57, 77, 78, 88, 5, 84, ...\n",
       "3        [46, 12, 91, 74, 5, 88, 74, 74, 83, 5, 88, 84,...\n",
       "4        [7, 40, 70, 87, 87, 78, 74, 87, 88, 7, 5, 75, ...\n",
       "                               ...                        \n",
       "49995    [57, 77, 78, 88, 5, 82, 84, 91, 78, 74, 5, 78,...\n",
       "49996    [51, 78, 72, 74, 5, 89, 84, 5, 88, 74, 74, 5, ...\n",
       "49997    [47, 74, 70, 83, 5, 55, 74, 83, 84, 78, 87, 12...\n",
       "49998    [60, 77, 70, 89, 5, 70, 87, 74, 5, 89, 77, 74,...\n",
       "49999    [46, 5, 88, 70, 92, 5, 89, 77, 78, 88, 5, 82, ...\n",
       "Name: x, Length: 50000, dtype: object"
      ]
     },
     "execution_count": 22,
     "metadata": {},
     "output_type": "execute_result"
    }
   ],
   "source": [
    "samples['x'] = samples['Review'].apply(lambda x: [vocabulary.get(c, 3) for c in x])\n",
    "samples['x'] = samples['x'].apply(lambda x: (x+[0]+([1]*max))[:max])\n",
    "\n",
    "samples['x']"
   ]
  },
  {
   "cell_type": "code",
   "execution_count": 23,
   "metadata": {},
   "outputs": [
    {
     "data": {
      "text/plain": [
       "0        [92, 84, 87, 80, 78, 83, 76, 5, 92, 78, 89, 77...\n",
       "1        [92, 74, 81, 81, 5, 89, 87, 74, 82, 84, 87, 88...\n",
       "2        [84, 90, 72, 77, 5, 89, 77, 78, 88, 5, 84, 83,...\n",
       "3        [78, 91, 74, 5, 88, 74, 74, 83, 5, 88, 84, 82,...\n",
       "4        [72, 70, 87, 87, 78, 74, 87, 88, 5, 75, 84, 81...\n",
       "                               ...                        \n",
       "49995    [89, 77, 78, 88, 5, 82, 84, 91, 78, 74, 5, 78,...\n",
       "49996    [83, 78, 72, 74, 5, 89, 84, 5, 88, 74, 74, 5, ...\n",
       "49997    [79, 74, 70, 83, 5, 87, 74, 83, 84, 78, 87, 88...\n",
       "49998    [92, 77, 70, 89, 5, 70, 87, 74, 5, 89, 77, 74,...\n",
       "49999    [78, 5, 88, 70, 92, 5, 89, 77, 78, 88, 5, 82, ...\n",
       "Name: y, Length: 50000, dtype: object"
      ]
     },
     "execution_count": 23,
     "metadata": {},
     "output_type": "execute_result"
    }
   ],
   "source": [
    "samples['y'] = samples['Review'].str.lower()\n",
    "samples['y'] = samples['y'].str.replace(r'[^a-z\\s\\']',' ',regex=True)\n",
    "samples['y'] = samples['y'].str.replace(r'\\'', '', regex=True)\n",
    "samples['y'] = samples['y'].str.replace(r'^\\s+','',regex=True)\n",
    "samples['y'] = samples['y'].str.replace(r'\\s+$','',regex=True)\n",
    "samples['y'] = samples['y'].str.replace(r'\\s+',' ',regex=True)\n",
    "\n",
    "samples['y'] = samples['y'].apply(lambda x: [vocabulary.get(c, 3) for c in x])\n",
    "samples['y'] = samples['y'].apply(lambda x: (x+[0]+([1]*max))[:max])\n",
    "\n",
    "samples['y']"
   ]
  },
  {
   "cell_type": "code",
   "execution_count": 25,
   "metadata": {},
   "outputs": [
    {
     "data": {
      "text/plain": [
       "array([[60, 84, 87, ...,  1,  1,  1],\n",
       "       [60, 74, 81, ...,  1,  1,  1],\n",
       "       [52, 90, 72, ...,  1,  1,  1],\n",
       "       ...,\n",
       "       [47, 74, 70, ...,  1,  1,  1],\n",
       "       [60, 77, 70, ...,  1,  1,  1],\n",
       "       [46,  5, 88, ...,  1,  1,  1]], dtype=uint8)"
      ]
     },
     "execution_count": 25,
     "metadata": {},
     "output_type": "execute_result"
    }
   ],
   "source": [
    "x = np.array(samples['x'].tolist()).astype(np.uint8)\n",
    "x"
   ]
  },
  {
   "cell_type": "code",
   "execution_count": 26,
   "metadata": {},
   "outputs": [
    {
     "data": {
      "text/plain": [
       "array([[92, 84, 87, ...,  1,  1,  1],\n",
       "       [92, 74, 81, ...,  1,  1,  1],\n",
       "       [84, 90, 72, ...,  1,  1,  1],\n",
       "       ...,\n",
       "       [79, 74, 70, ...,  1,  1,  1],\n",
       "       [92, 77, 70, ...,  1,  1,  1],\n",
       "       [78,  5, 88, ...,  1,  1,  1]], dtype=uint8)"
      ]
     },
     "execution_count": 26,
     "metadata": {},
     "output_type": "execute_result"
    }
   ],
   "source": [
    "y = np.array(samples['y'].tolist()).astype(np.uint8)\n",
    "y"
   ]
  },
  {
   "cell_type": "code",
   "execution_count": 27,
   "metadata": {},
   "outputs": [],
   "source": [
    "file = h5py.File('bpe_xy.h5', 'w')\n",
    "\n",
    "file.create_dataset('x', data=x)\n",
    "file.create_dataset('y', data=y)\n",
    "\n",
    "file.close()"
   ]
  }
 ],
 "metadata": {
  "kernelspec": {
   "display_name": "Python 3",
   "language": "python",
   "name": "python3"
  },
  "language_info": {
   "codemirror_mode": {
    "name": "ipython",
    "version": 3
   },
   "file_extension": ".py",
   "mimetype": "text/x-python",
   "name": "python",
   "nbconvert_exporter": "python",
   "pygments_lexer": "ipython3",
   "version": "3.10.11"
  }
 },
 "nbformat": 4,
 "nbformat_minor": 2
}
