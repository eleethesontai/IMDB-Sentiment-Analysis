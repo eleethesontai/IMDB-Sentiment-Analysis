{
 "cells": [
  {
   "cell_type": "code",
   "execution_count": 1,
   "metadata": {},
   "outputs": [
    {
     "name": "stderr",
     "output_type": "stream",
     "text": [
      "2024-11-09 17:23:40.622759: I tensorflow/core/platform/cpu_feature_guard.cc:182] This TensorFlow binary is optimized to use available CPU instructions in performance-critical operations.\n",
      "To enable the following instructions: AVX2 FMA, in other operations, rebuild TensorFlow with the appropriate compiler flags.\n"
     ]
    }
   ],
   "source": [
    "import pandas as pd\n",
    "import numpy as np\n",
    "import tensorflow as tf\n",
    "\n",
    "from tensorflow import keras\n",
    "\n",
    "from keras.models import Sequential\n",
    "from keras.layers import Dense,TextVectorization, Embedding, Flatten, Dropout\n",
    "\n",
    "from sklearn.model_selection import train_test_split"
   ]
  },
  {
   "cell_type": "code",
   "execution_count": 2,
   "metadata": {},
   "outputs": [],
   "source": [
    "samples = pd.read_csv('Reviews.csv')"
   ]
  },
  {
   "cell_type": "code",
   "execution_count": 3,
   "metadata": {},
   "outputs": [],
   "source": [
    "def standardize(input):\n",
    "    result = tf.strings.lower(input)\n",
    "    result = tf.strings.regex_replace(result, r\"[^a-z\\s]\", \" \")\n",
    "    result = tf.strings.regex_replace(result, r\"\\s+\", \" \")\n",
    "    return result"
   ]
  },
  {
   "cell_type": "code",
   "execution_count": 4,
   "metadata": {},
   "outputs": [],
   "source": [
    "vectorizer = TextVectorization(max_tokens=4096, output_mode=\"int\", output_sequence_length=2048, standardize=standardize)\n",
    "vectorizer.adapt([samples['Review']])"
   ]
  },
  {
   "cell_type": "code",
   "execution_count": null,
   "metadata": {},
   "outputs": [],
   "source": []
  },
  {
   "cell_type": "code",
   "execution_count": 5,
   "metadata": {},
   "outputs": [
    {
     "data": {
      "text/plain": [
       "((40000,), (40000,), (10000,), (10000,))"
      ]
     },
     "execution_count": 5,
     "metadata": {},
     "output_type": "execute_result"
    }
   ],
   "source": [
    "x = np.array(samples['Review'].tolist())\n",
    "y = np.array(samples['Sentiment'].tolist())\n",
    "\n",
    "x_train, x_test, y_train, y_test = train_test_split(x, y, test_size=0.2, random_state=42, stratify=y)\n",
    "x_train.shape, y_train.shape, x_test.shape, y_test.shape"
   ]
  },
  {
   "cell_type": "code",
   "execution_count": 6,
   "metadata": {},
   "outputs": [],
   "source": [
    "train = tf.data.Dataset.from_tensor_slices((x_train, y_train)).batch(256)\n",
    "test = tf.data.Dataset.from_tensor_slices((x_test, y_test)).batch(256)"
   ]
  },
  {
   "cell_type": "code",
   "execution_count": 7,
   "metadata": {},
   "outputs": [],
   "source": [
    "model = Sequential([\n",
    "    vectorizer,\n",
    "    Embedding(input_dim=4096, output_dim=32),\n",
    "    Flatten(),\n",
    "    Dropout(.25),\n",
    "    Dense(1, activation='sigmoid')\n",
    "])"
   ]
  },
  {
   "cell_type": "code",
   "execution_count": 8,
   "metadata": {},
   "outputs": [
    {
     "name": "stdout",
     "output_type": "stream",
     "text": [
      "Epoch 1/64\n",
      "157/157 [==============================] - 45s 271ms/step - loss: 0.5970 - accuracy: 0.6686 - val_loss: 0.3900 - val_accuracy: 0.8473\n",
      "Epoch 2/64\n",
      "157/157 [==============================] - 47s 300ms/step - loss: 0.3199 - accuracy: 0.8720 - val_loss: 0.2950 - val_accuracy: 0.8788\n",
      "Epoch 3/64\n",
      "157/157 [==============================] - 42s 265ms/step - loss: 0.2550 - accuracy: 0.9011 - val_loss: 0.2768 - val_accuracy: 0.8876\n",
      "Epoch 4/64\n",
      "157/157 [==============================] - 42s 270ms/step - loss: 0.2242 - accuracy: 0.9140 - val_loss: 0.2740 - val_accuracy: 0.8879\n",
      "Epoch 5/64\n",
      "157/157 [==============================] - 42s 267ms/step - loss: 0.2020 - accuracy: 0.9236 - val_loss: 0.2791 - val_accuracy: 0.8862\n",
      "Epoch 6/64\n",
      "157/157 [==============================] - 42s 266ms/step - loss: 0.1813 - accuracy: 0.9334 - val_loss: 0.2792 - val_accuracy: 0.8878\n",
      "Epoch 7/64\n",
      "157/157 [==============================] - 41s 264ms/step - loss: 0.1603 - accuracy: 0.9438 - val_loss: 0.2835 - val_accuracy: 0.8861\n",
      "Epoch 8/64\n",
      "157/157 [==============================] - 41s 264ms/step - loss: 0.1402 - accuracy: 0.9539 - val_loss: 0.2889 - val_accuracy: 0.8862\n",
      "Epoch 9/64\n",
      "157/157 [==============================] - 41s 262ms/step - loss: 0.1220 - accuracy: 0.9616 - val_loss: 0.2986 - val_accuracy: 0.8829\n",
      "Epoch 10/64\n",
      "157/157 [==============================] - 42s 265ms/step - loss: 0.1058 - accuracy: 0.9699 - val_loss: 0.3098 - val_accuracy: 0.8806\n",
      "Epoch 11/64\n",
      "157/157 [==============================] - 41s 264ms/step - loss: 0.0907 - accuracy: 0.9758 - val_loss: 0.3140 - val_accuracy: 0.8811\n",
      "Epoch 12/64\n",
      "157/157 [==============================] - 41s 260ms/step - loss: 0.0780 - accuracy: 0.9816 - val_loss: 0.3204 - val_accuracy: 0.8824\n",
      "Epoch 13/64\n",
      "157/157 [==============================] - 41s 262ms/step - loss: 0.0663 - accuracy: 0.9865 - val_loss: 0.3305 - val_accuracy: 0.8804\n",
      "Epoch 14/64\n",
      "157/157 [==============================] - 41s 260ms/step - loss: 0.0553 - accuracy: 0.9902 - val_loss: 0.3402 - val_accuracy: 0.8800\n",
      "Epoch 15/64\n",
      "157/157 [==============================] - 41s 262ms/step - loss: 0.0473 - accuracy: 0.9924 - val_loss: 0.3500 - val_accuracy: 0.8781\n",
      "Epoch 16/64\n",
      "157/157 [==============================] - 41s 259ms/step - loss: 0.0411 - accuracy: 0.9941 - val_loss: 0.3608 - val_accuracy: 0.8782\n",
      "Epoch 17/64\n",
      "157/157 [==============================] - 41s 262ms/step - loss: 0.0352 - accuracy: 0.9958 - val_loss: 0.3666 - val_accuracy: 0.8788\n",
      "Epoch 18/64\n",
      "157/157 [==============================] - 41s 259ms/step - loss: 0.0306 - accuracy: 0.9966 - val_loss: 0.3743 - val_accuracy: 0.8782\n",
      "Epoch 19/64\n",
      "157/157 [==============================] - 41s 264ms/step - loss: 0.0274 - accuracy: 0.9969 - val_loss: 0.3841 - val_accuracy: 0.8794\n",
      "Epoch 20/64\n",
      "157/157 [==============================] - 41s 262ms/step - loss: 0.0237 - accuracy: 0.9980 - val_loss: 0.3921 - val_accuracy: 0.8785\n",
      "Epoch 21/64\n",
      "157/157 [==============================] - 41s 262ms/step - loss: 0.0212 - accuracy: 0.9980 - val_loss: 0.4031 - val_accuracy: 0.8769\n",
      "Epoch 22/64\n",
      "157/157 [==============================] - 41s 262ms/step - loss: 0.0187 - accuracy: 0.9984 - val_loss: 0.4090 - val_accuracy: 0.8783\n",
      "Epoch 23/64\n",
      "157/157 [==============================] - 41s 263ms/step - loss: 0.0173 - accuracy: 0.9985 - val_loss: 0.4172 - val_accuracy: 0.8785\n",
      "Epoch 24/64\n",
      "157/157 [==============================] - 41s 263ms/step - loss: 0.0154 - accuracy: 0.9987 - val_loss: 0.4263 - val_accuracy: 0.8785\n",
      "Epoch 25/64\n",
      "157/157 [==============================] - 41s 263ms/step - loss: 0.0137 - accuracy: 0.9991 - val_loss: 0.4343 - val_accuracy: 0.8770\n",
      "Epoch 26/64\n",
      "157/157 [==============================] - 41s 259ms/step - loss: 0.0118 - accuracy: 0.9992 - val_loss: 0.4469 - val_accuracy: 0.8767\n",
      "Epoch 27/64\n",
      "157/157 [==============================] - 41s 263ms/step - loss: 0.0110 - accuracy: 0.9994 - val_loss: 0.4523 - val_accuracy: 0.8775\n",
      "Epoch 28/64\n",
      "157/157 [==============================] - 41s 260ms/step - loss: 0.0099 - accuracy: 0.9996 - val_loss: 0.4612 - val_accuracy: 0.8756\n",
      "Epoch 29/64\n",
      "157/157 [==============================] - 41s 263ms/step - loss: 0.0088 - accuracy: 0.9997 - val_loss: 0.4710 - val_accuracy: 0.8751\n",
      "Epoch 30/64\n",
      "157/157 [==============================] - 41s 262ms/step - loss: 0.0083 - accuracy: 0.9994 - val_loss: 0.4773 - val_accuracy: 0.8759\n",
      "Epoch 31/64\n",
      "157/157 [==============================] - 42s 265ms/step - loss: 0.0075 - accuracy: 0.9996 - val_loss: 0.4864 - val_accuracy: 0.8741\n",
      "Epoch 32/64\n",
      "157/157 [==============================] - 42s 265ms/step - loss: 0.0070 - accuracy: 0.9997 - val_loss: 0.4898 - val_accuracy: 0.8753\n",
      "Epoch 33/64\n",
      "157/157 [==============================] - 42s 265ms/step - loss: 0.0063 - accuracy: 0.9998 - val_loss: 0.4979 - val_accuracy: 0.8762\n",
      "Epoch 34/64\n",
      "157/157 [==============================] - 41s 261ms/step - loss: 0.0059 - accuracy: 0.9997 - val_loss: 0.5046 - val_accuracy: 0.8756\n",
      "Epoch 35/64\n",
      "157/157 [==============================] - 41s 264ms/step - loss: 0.0054 - accuracy: 0.9998 - val_loss: 0.5124 - val_accuracy: 0.8770\n",
      "Epoch 36/64\n",
      "157/157 [==============================] - 41s 263ms/step - loss: 0.0053 - accuracy: 0.9997 - val_loss: 0.5190 - val_accuracy: 0.8759\n",
      "Epoch 37/64\n",
      "157/157 [==============================] - 41s 263ms/step - loss: 0.0050 - accuracy: 0.9998 - val_loss: 0.5302 - val_accuracy: 0.8745\n",
      "Epoch 38/64\n",
      "157/157 [==============================] - 41s 263ms/step - loss: 0.0047 - accuracy: 0.9997 - val_loss: 0.5360 - val_accuracy: 0.8739\n",
      "Epoch 39/64\n",
      "157/157 [==============================] - 41s 260ms/step - loss: 0.0042 - accuracy: 0.9998 - val_loss: 0.5425 - val_accuracy: 0.8748\n",
      "Epoch 40/64\n",
      "157/157 [==============================] - 41s 263ms/step - loss: 0.0040 - accuracy: 0.9998 - val_loss: 0.5527 - val_accuracy: 0.8730\n",
      "Epoch 41/64\n",
      "157/157 [==============================] - 41s 259ms/step - loss: 0.0040 - accuracy: 0.9997 - val_loss: 0.5686 - val_accuracy: 0.8718\n",
      "Epoch 42/64\n",
      "157/157 [==============================] - 41s 263ms/step - loss: 0.0036 - accuracy: 0.9999 - val_loss: 0.5639 - val_accuracy: 0.8732\n",
      "Epoch 43/64\n",
      "157/157 [==============================] - 41s 260ms/step - loss: 0.0036 - accuracy: 0.9998 - val_loss: 0.5660 - val_accuracy: 0.8742\n",
      "Epoch 44/64\n",
      "157/157 [==============================] - 41s 264ms/step - loss: 0.0035 - accuracy: 0.9998 - val_loss: 0.5681 - val_accuracy: 0.8751\n",
      "Epoch 45/64\n",
      "157/157 [==============================] - 41s 261ms/step - loss: 0.0033 - accuracy: 0.9997 - val_loss: 0.5847 - val_accuracy: 0.8754\n",
      "Epoch 46/64\n",
      "157/157 [==============================] - 42s 265ms/step - loss: 0.0029 - accuracy: 0.9998 - val_loss: 0.5994 - val_accuracy: 0.8757\n",
      "Epoch 47/64\n",
      "157/157 [==============================] - 39s 248ms/step - loss: 0.0029 - accuracy: 0.9998 - val_loss: 0.5890 - val_accuracy: 0.8743\n",
      "Epoch 48/64\n",
      "157/157 [==============================] - 39s 246ms/step - loss: 0.0028 - accuracy: 0.9997 - val_loss: 0.5952 - val_accuracy: 0.8753\n",
      "Epoch 49/64\n",
      "157/157 [==============================] - 38s 244ms/step - loss: 0.0027 - accuracy: 0.9997 - val_loss: 0.6182 - val_accuracy: 0.8736\n",
      "Epoch 50/64\n",
      "157/157 [==============================] - 39s 248ms/step - loss: 0.0028 - accuracy: 0.9998 - val_loss: 0.6143 - val_accuracy: 0.8758\n",
      "Epoch 51/64\n",
      "157/157 [==============================] - 39s 247ms/step - loss: 0.0027 - accuracy: 0.9997 - val_loss: 0.6330 - val_accuracy: 0.8733\n",
      "Epoch 52/64\n",
      "157/157 [==============================] - 39s 248ms/step - loss: 0.0027 - accuracy: 0.9997 - val_loss: 0.6892 - val_accuracy: 0.8683\n",
      "Epoch 53/64\n",
      "157/157 [==============================] - 39s 246ms/step - loss: 0.0029 - accuracy: 0.9997 - val_loss: 0.6381 - val_accuracy: 0.8739\n",
      "Epoch 54/64\n",
      "157/157 [==============================] - 39s 248ms/step - loss: 0.0024 - accuracy: 0.9996 - val_loss: 0.6280 - val_accuracy: 0.8754\n",
      "Epoch 55/64\n",
      "157/157 [==============================] - 39s 245ms/step - loss: 0.0024 - accuracy: 0.9996 - val_loss: 0.6382 - val_accuracy: 0.8752\n",
      "Epoch 56/64\n",
      "157/157 [==============================] - 38s 245ms/step - loss: 0.0024 - accuracy: 0.9997 - val_loss: 0.6482 - val_accuracy: 0.8729\n",
      "Epoch 57/64\n",
      "157/157 [==============================] - 39s 248ms/step - loss: 0.0024 - accuracy: 0.9995 - val_loss: 0.6562 - val_accuracy: 0.8725\n",
      "Epoch 58/64\n",
      "157/157 [==============================] - 38s 245ms/step - loss: 0.0024 - accuracy: 0.9997 - val_loss: 0.6681 - val_accuracy: 0.8733\n",
      "Epoch 59/64\n",
      "157/157 [==============================] - 39s 248ms/step - loss: 0.0026 - accuracy: 0.9996 - val_loss: 0.6632 - val_accuracy: 0.8752\n",
      "Epoch 60/64\n",
      "157/157 [==============================] - 38s 240ms/step - loss: 0.0021 - accuracy: 0.9998 - val_loss: 0.6690 - val_accuracy: 0.8742\n",
      "Epoch 61/64\n",
      "157/157 [==============================] - 39s 249ms/step - loss: 0.0023 - accuracy: 0.9997 - val_loss: 0.6747 - val_accuracy: 0.8748\n",
      "Epoch 62/64\n",
      "157/157 [==============================] - 39s 248ms/step - loss: 0.0021 - accuracy: 0.9998 - val_loss: 0.7033 - val_accuracy: 0.8717\n",
      "Epoch 63/64\n",
      "157/157 [==============================] - 38s 245ms/step - loss: 0.0027 - accuracy: 0.9995 - val_loss: 0.6808 - val_accuracy: 0.8738\n",
      "Epoch 64/64\n",
      "157/157 [==============================] - 38s 244ms/step - loss: 0.0018 - accuracy: 0.9998 - val_loss: 0.6878 - val_accuracy: 0.8745\n"
     ]
    }
   ],
   "source": [
    "model.compile(optimizer='adam', loss='binary_crossentropy', metrics=['accuracy'])\n",
    "history = model.fit(train, epochs=64, validation_data=test)"
   ]
  }
 ],
 "metadata": {
  "kernelspec": {
   "display_name": "Python 3",
   "language": "python",
   "name": "python3"
  },
  "language_info": {
   "codemirror_mode": {
    "name": "ipython",
    "version": 3
   },
   "file_extension": ".py",
   "mimetype": "text/x-python",
   "name": "python",
   "nbconvert_exporter": "python",
   "pygments_lexer": "ipython3",
   "version": "3.10.11"
  }
 },
 "nbformat": 4,
 "nbformat_minor": 2
}
