{
 "cells": [
  {
   "cell_type": "code",
   "execution_count": 36,
   "metadata": {},
   "outputs": [
    {
     "data": {
      "text/plain": [
       "array([1310.72      , 1323.32307692,  403.29846154, 1310.72      ,\n",
       "       1398.94153846, 1499.76615385,  403.29846154, 1222.49846154,\n",
       "       1436.75076923, 1272.91076923,  403.29846154, 1524.97230769,\n",
       "       1398.94153846, 1474.56      ])"
      ]
     },
     "execution_count": 36,
     "metadata": {},
     "output_type": "execute_result"
    }
   ],
   "source": [
    "import numpy as np\n",
    "\n",
    "s = 'hi how are you'\n",
    "t = np.array(list(s.encode('utf8')))\n",
    "\n",
    "r = t*sum(t)\n",
    "r = r / sum(r)\n",
    "r = r * 16384\n",
    "r "
   ]
  }
 ],
 "metadata": {
  "kernelspec": {
   "display_name": "Python 3",
   "language": "python",
   "name": "python3"
  },
  "language_info": {
   "codemirror_mode": {
    "name": "ipython",
    "version": 3
   },
   "file_extension": ".py",
   "mimetype": "text/x-python",
   "name": "python",
   "nbconvert_exporter": "python",
   "pygments_lexer": "ipython3",
   "version": "3.10.11"
  }
 },
 "nbformat": 4,
 "nbformat_minor": 2
}
