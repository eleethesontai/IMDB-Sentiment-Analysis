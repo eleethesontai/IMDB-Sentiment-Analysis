{
 "cells": [
  {
   "cell_type": "code",
   "execution_count": 1,
   "metadata": {},
   "outputs": [
    {
     "name": "stderr",
     "output_type": "stream",
     "text": [
      "2024-11-09 17:15:16.468352: I tensorflow/core/platform/cpu_feature_guard.cc:182] This TensorFlow binary is optimized to use available CPU instructions in performance-critical operations.\n",
      "To enable the following instructions: AVX2 FMA, in other operations, rebuild TensorFlow with the appropriate compiler flags.\n"
     ]
    }
   ],
   "source": [
    "import pandas as pd\n",
    "import numpy as np\n",
    "import tensorflow as tf\n",
    "\n",
    "from tensorflow import keras\n",
    "\n",
    "from keras.models import Sequential\n",
    "from keras.layers import Dense, Embedding, Flatten, Dropout, Input\n",
    "\n",
    "from sklearn.model_selection import train_test_split\n",
    "from tokenizers import ByteLevelBPETokenizer"
   ]
  },
  {
   "cell_type": "code",
   "execution_count": 2,
   "metadata": {},
   "outputs": [],
   "source": [
    "samples = pd.read_csv('Reviews.csv')"
   ]
  },
  {
   "cell_type": "code",
   "execution_count": 3,
   "metadata": {},
   "outputs": [
    {
     "name": "stdout",
     "output_type": "stream",
     "text": [
      "\n",
      "\n",
      "\n"
     ]
    }
   ],
   "source": [
    "tokenizer = ByteLevelBPETokenizer()\n",
    "tokenizer.train_from_iterator(samples['Review'], vocab_size=1024, min_frequency=256)"
   ]
  },
  {
   "cell_type": "code",
   "execution_count": 4,
   "metadata": {},
   "outputs": [
    {
     "data": {
      "text/plain": [
       "5540"
      ]
     },
     "execution_count": 4,
     "metadata": {},
     "output_type": "execute_result"
    }
   ],
   "source": [
    "samples['x'] = samples['Review'].apply(lambda x: tokenizer.encode(x).ids)\n",
    "sequence_size = samples['x'].apply(len).max()\n",
    "samples['x'] = samples['x'].apply(lambda x: (([0]*sequence_size)+x)[-sequence_size:])\n",
    "\n",
    "sequence_size"
   ]
  },
  {
   "cell_type": "code",
   "execution_count": 5,
   "metadata": {},
   "outputs": [],
   "source": [
    "x = np.array(samples['x'].tolist())\n",
    "y = np.array(samples['Sentiment'].tolist())"
   ]
  },
  {
   "cell_type": "code",
   "execution_count": 6,
   "metadata": {},
   "outputs": [
    {
     "data": {
      "text/plain": [
       "((40000, 5540), (40000,), (10000, 5540), (10000,))"
      ]
     },
     "execution_count": 6,
     "metadata": {},
     "output_type": "execute_result"
    }
   ],
   "source": [
    "x_train, x_test, y_train, y_test = train_test_split(x, y, test_size=0.2, random_state=42, stratify=y)\n",
    "x_train.shape, y_train.shape, x_test.shape, y_test.shape"
   ]
  },
  {
   "cell_type": "code",
   "execution_count": 7,
   "metadata": {},
   "outputs": [],
   "source": [
    "train = tf.data.Dataset.from_tensor_slices((x_train, y_train)).batch(256)\n",
    "test = tf.data.Dataset.from_tensor_slices((x_test, y_test)).batch(256)"
   ]
  },
  {
   "cell_type": "code",
   "execution_count": 8,
   "metadata": {},
   "outputs": [],
   "source": [
    "model = Sequential([\n",
    "    Input(shape=(5540,)),\n",
    "    Embedding(input_dim=1024, output_dim=32),\n",
    "    Flatten(),\n",
    "    Dropout(.25),\n",
    "    Dense(1, activation='sigmoid')\n",
    "])"
   ]
  },
  {
   "cell_type": "code",
   "execution_count": null,
   "metadata": {},
   "outputs": [
    {
     "name": "stdout",
     "output_type": "stream",
     "text": [
      "Epoch 1/64\n",
      "157/157 [==============================] - 64s 404ms/step - loss: 0.6408 - accuracy: 0.6386 - val_loss: 0.4589 - val_accuracy: 0.7967\n",
      "Epoch 2/64\n",
      "157/157 [==============================] - 72s 460ms/step - loss: 0.3943 - accuracy: 0.8268 - val_loss: 0.3918 - val_accuracy: 0.8233\n",
      "Epoch 3/64\n",
      "157/157 [==============================] - 71s 453ms/step - loss: 0.3443 - accuracy: 0.8522 - val_loss: 0.3821 - val_accuracy: 0.8269\n",
      "Epoch 4/64\n",
      "157/157 [==============================] - 71s 452ms/step - loss: 0.3139 - accuracy: 0.8690 - val_loss: 0.3807 - val_accuracy: 0.8277\n",
      "Epoch 5/64\n",
      "157/157 [==============================] - 71s 454ms/step - loss: 0.2857 - accuracy: 0.8846 - val_loss: 0.3840 - val_accuracy: 0.8274\n",
      "Epoch 6/64\n",
      "157/157 [==============================] - 72s 461ms/step - loss: 0.2609 - accuracy: 0.8968 - val_loss: 0.3927 - val_accuracy: 0.8266\n",
      "Epoch 7/64\n",
      "157/157 [==============================] - 84s 532ms/step - loss: 0.2371 - accuracy: 0.9094 - val_loss: 0.4023 - val_accuracy: 0.8240\n",
      "Epoch 8/64\n",
      "157/157 [==============================] - 93s 591ms/step - loss: 0.2141 - accuracy: 0.9200 - val_loss: 0.4109 - val_accuracy: 0.8219\n",
      "Epoch 9/64\n",
      "157/157 [==============================] - 89s 567ms/step - loss: 0.1942 - accuracy: 0.9305 - val_loss: 0.4258 - val_accuracy: 0.8199\n",
      "Epoch 10/64\n",
      "157/157 [==============================] - 88s 558ms/step - loss: 0.1756 - accuracy: 0.9382 - val_loss: 0.4354 - val_accuracy: 0.8190\n",
      "Epoch 11/64\n",
      "157/157 [==============================] - 86s 548ms/step - loss: 0.1611 - accuracy: 0.9450 - val_loss: 0.4453 - val_accuracy: 0.8188\n",
      "Epoch 12/64\n",
      "157/157 [==============================] - 87s 552ms/step - loss: 0.1461 - accuracy: 0.9515 - val_loss: 0.4551 - val_accuracy: 0.8184\n",
      "Epoch 13/64\n",
      "157/157 [==============================] - 86s 550ms/step - loss: 0.1340 - accuracy: 0.9567 - val_loss: 0.4678 - val_accuracy: 0.8154\n",
      "Epoch 14/64\n",
      "157/157 [==============================] - 86s 545ms/step - loss: 0.1231 - accuracy: 0.9609 - val_loss: 0.4751 - val_accuracy: 0.8163\n",
      "Epoch 15/64\n",
      "157/157 [==============================] - 87s 552ms/step - loss: 0.1139 - accuracy: 0.9632 - val_loss: 0.4948 - val_accuracy: 0.8136\n",
      "Epoch 16/64\n",
      "157/157 [==============================] - 86s 550ms/step - loss: 0.1060 - accuracy: 0.9666 - val_loss: 0.5068 - val_accuracy: 0.8108\n",
      "Epoch 17/64\n",
      "157/157 [==============================] - 86s 550ms/step - loss: 0.0978 - accuracy: 0.9705 - val_loss: 0.5197 - val_accuracy: 0.8110\n",
      "Epoch 18/64\n",
      "157/157 [==============================] - 87s 551ms/step - loss: 0.0918 - accuracy: 0.9714 - val_loss: 0.5319 - val_accuracy: 0.8121\n",
      "Epoch 19/64\n",
      "157/157 [==============================] - 86s 551ms/step - loss: 0.0859 - accuracy: 0.9748 - val_loss: 0.5439 - val_accuracy: 0.8124\n",
      "Epoch 20/64\n",
      "157/157 [==============================] - 86s 547ms/step - loss: 0.0808 - accuracy: 0.9756 - val_loss: 0.5634 - val_accuracy: 0.8095\n",
      "Epoch 21/64\n",
      "157/157 [==============================] - 86s 549ms/step - loss: 0.0758 - accuracy: 0.9765 - val_loss: 0.5710 - val_accuracy: 0.8099\n",
      "Epoch 22/64\n",
      "157/157 [==============================] - 87s 557ms/step - loss: 0.0719 - accuracy: 0.9791 - val_loss: 0.5853 - val_accuracy: 0.8092\n",
      "Epoch 23/64\n",
      "157/157 [==============================] - 86s 549ms/step - loss: 0.0681 - accuracy: 0.9803 - val_loss: 0.5993 - val_accuracy: 0.8072\n",
      "Epoch 24/64\n",
      "157/157 [==============================] - 86s 548ms/step - loss: 0.0650 - accuracy: 0.9808 - val_loss: 0.6091 - val_accuracy: 0.8061\n",
      "Epoch 25/64\n",
      "157/157 [==============================] - 87s 554ms/step - loss: 0.0635 - accuracy: 0.9810 - val_loss: 0.6185 - val_accuracy: 0.8070\n",
      "Epoch 26/64\n",
      "157/157 [==============================] - 86s 549ms/step - loss: 0.0589 - accuracy: 0.9826 - val_loss: 0.6293 - val_accuracy: 0.8070\n",
      "Epoch 27/64\n",
      "157/157 [==============================] - 87s 553ms/step - loss: 0.0556 - accuracy: 0.9840 - val_loss: 0.6556 - val_accuracy: 0.8022\n",
      "Epoch 28/64\n",
      "157/157 [==============================] - 87s 553ms/step - loss: 0.0541 - accuracy: 0.9840 - val_loss: 0.6588 - val_accuracy: 0.8066\n",
      "Epoch 29/64\n",
      "157/157 [==============================] - 85s 541ms/step - loss: 0.0514 - accuracy: 0.9845 - val_loss: 0.6669 - val_accuracy: 0.8057\n",
      "Epoch 30/64\n",
      "157/157 [==============================] - 79s 504ms/step - loss: 0.0511 - accuracy: 0.9844 - val_loss: 0.6771 - val_accuracy: 0.8054\n",
      "Epoch 31/64\n",
      "157/157 [==============================] - 80s 512ms/step - loss: 0.0466 - accuracy: 0.9870 - val_loss: 0.6899 - val_accuracy: 0.8070\n",
      "Epoch 32/64\n",
      "157/157 [==============================] - 80s 511ms/step - loss: 0.0462 - accuracy: 0.9862 - val_loss: 0.7007 - val_accuracy: 0.8046\n",
      "Epoch 33/64\n",
      "157/157 [==============================] - 79s 505ms/step - loss: 0.0443 - accuracy: 0.9869 - val_loss: 0.7192 - val_accuracy: 0.8025\n",
      "Epoch 34/64\n",
      "157/157 [==============================] - 79s 506ms/step - loss: 0.0435 - accuracy: 0.9872 - val_loss: 0.7269 - val_accuracy: 0.8029\n",
      "Epoch 35/64\n",
      "157/157 [==============================] - 80s 509ms/step - loss: 0.0439 - accuracy: 0.9868 - val_loss: 0.7547 - val_accuracy: 0.8025\n",
      "Epoch 36/64\n",
      "157/157 [==============================] - 80s 508ms/step - loss: 0.0419 - accuracy: 0.9871 - val_loss: 0.7498 - val_accuracy: 0.8049\n",
      "Epoch 37/64\n",
      "157/157 [==============================] - 80s 512ms/step - loss: 0.0393 - accuracy: 0.9887 - val_loss: 0.7644 - val_accuracy: 0.8036\n",
      "Epoch 38/64\n",
      "157/157 [==============================] - 69s 437ms/step - loss: 0.0405 - accuracy: 0.9873 - val_loss: 0.7679 - val_accuracy: 0.8044\n",
      "Epoch 39/64\n",
      "157/157 [==============================] - 63s 404ms/step - loss: 0.0392 - accuracy: 0.9881 - val_loss: 0.7844 - val_accuracy: 0.8025\n",
      "Epoch 40/64\n",
      "157/157 [==============================] - 64s 407ms/step - loss: 0.0382 - accuracy: 0.9881 - val_loss: 0.7892 - val_accuracy: 0.8013\n",
      "Epoch 41/64\n",
      "157/157 [==============================] - 64s 405ms/step - loss: 0.0379 - accuracy: 0.9886 - val_loss: 0.7919 - val_accuracy: 0.8024\n",
      "Epoch 42/64\n",
      "157/157 [==============================] - 63s 404ms/step - loss: 0.0350 - accuracy: 0.9900 - val_loss: 0.8023 - val_accuracy: 0.8025\n",
      "Epoch 43/64\n",
      "157/157 [==============================] - 63s 404ms/step - loss: 0.0330 - accuracy: 0.9900 - val_loss: 0.8125 - val_accuracy: 0.8024\n",
      "Epoch 44/64\n",
      "157/157 [==============================] - 63s 404ms/step - loss: 0.0342 - accuracy: 0.9900 - val_loss: 0.8302 - val_accuracy: 0.8019\n",
      "Epoch 45/64\n",
      "157/157 [==============================] - 64s 408ms/step - loss: 0.0338 - accuracy: 0.9900 - val_loss: 0.8294 - val_accuracy: 0.8017\n",
      "Epoch 46/64\n",
      "157/157 [==============================] - 63s 402ms/step - loss: 0.0326 - accuracy: 0.9897 - val_loss: 0.8563 - val_accuracy: 0.8002\n",
      "Epoch 47/64\n",
      "157/157 [==============================] - 64s 405ms/step - loss: 0.0333 - accuracy: 0.9897 - val_loss: 0.8531 - val_accuracy: 0.8019\n",
      "Epoch 48/64\n",
      "157/157 [==============================] - 63s 403ms/step - loss: 0.0312 - accuracy: 0.9905 - val_loss: 0.8576 - val_accuracy: 0.8002\n",
      "Epoch 49/64\n",
      "157/157 [==============================] - 63s 402ms/step - loss: 0.0308 - accuracy: 0.9905 - val_loss: 0.8778 - val_accuracy: 0.8026\n",
      "Epoch 50/64\n",
      "157/157 [==============================] - 64s 405ms/step - loss: 0.0306 - accuracy: 0.9906 - val_loss: 0.8778 - val_accuracy: 0.8022\n",
      "Epoch 51/64\n",
      "157/157 [==============================] - 63s 404ms/step - loss: 0.0301 - accuracy: 0.9904 - val_loss: 0.8815 - val_accuracy: 0.7993\n",
      "Epoch 52/64\n",
      "157/157 [==============================] - 64s 409ms/step - loss: 0.0285 - accuracy: 0.9913 - val_loss: 0.8870 - val_accuracy: 0.8001\n",
      "Epoch 53/64\n",
      "157/157 [==============================] - 63s 402ms/step - loss: 0.0294 - accuracy: 0.9907 - val_loss: 0.8934 - val_accuracy: 0.8023\n",
      "Epoch 54/64\n",
      "157/157 [==============================] - 63s 404ms/step - loss: 0.0274 - accuracy: 0.9918 - val_loss: 0.9315 - val_accuracy: 0.8001\n",
      "Epoch 55/64\n",
      "157/157 [==============================] - 64s 405ms/step - loss: 0.0278 - accuracy: 0.9912 - val_loss: 0.9206 - val_accuracy: 0.8017\n",
      "Epoch 56/64\n",
      "157/157 [==============================] - 63s 404ms/step - loss: 0.0285 - accuracy: 0.9908 - val_loss: 0.9352 - val_accuracy: 0.8014\n",
      "Epoch 57/64\n",
      "157/157 [==============================] - 63s 401ms/step - loss: 0.0275 - accuracy: 0.9913 - val_loss: 0.9494 - val_accuracy: 0.7999\n",
      "Epoch 58/64\n",
      "157/157 [==============================] - 63s 404ms/step - loss: 0.0266 - accuracy: 0.9916 - val_loss: 0.9534 - val_accuracy: 0.8002\n",
      "Epoch 59/64\n",
      "157/157 [==============================] - 69s 437ms/step - loss: 0.0275 - accuracy: 0.9913 - val_loss: 0.9606 - val_accuracy: 0.8005\n",
      "Epoch 60/64\n",
      "  5/157 [..............................] - ETA: 59s - loss: 0.0260 - accuracy: 0.9906"
     ]
    }
   ],
   "source": [
    "model.compile(optimizer='adam', loss='binary_crossentropy', metrics=['accuracy'])\n",
    "history = model.fit(train, epochs=64, validation_data=test)"
   ]
  }
 ],
 "metadata": {
  "kernelspec": {
   "display_name": "Python 3",
   "language": "python",
   "name": "python3"
  },
  "language_info": {
   "codemirror_mode": {
    "name": "ipython",
    "version": 3
   },
   "file_extension": ".py",
   "mimetype": "text/x-python",
   "name": "python",
   "nbconvert_exporter": "python",
   "pygments_lexer": "ipython3",
   "version": "3.10.11"
  }
 },
 "nbformat": 4,
 "nbformat_minor": 2
}
