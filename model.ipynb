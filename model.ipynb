{
 "cells": [
  {
   "cell_type": "code",
   "execution_count": 1,
   "metadata": {},
   "outputs": [
    {
     "name": "stderr",
     "output_type": "stream",
     "text": [
      "2024-11-02 09:07:15.928272: I tensorflow/core/platform/cpu_feature_guard.cc:182] This TensorFlow binary is optimized to use available CPU instructions in performance-critical operations.\n",
      "To enable the following instructions: AVX2 FMA, in other operations, rebuild TensorFlow with the appropriate compiler flags.\n"
     ]
    }
   ],
   "source": [
    "import pandas as pd\n",
    "import numpy as np\n",
    "import h5py\n",
    "import matplotlib.pyplot as plt\n",
    "\n",
    "from sklearn.model_selection import train_test_split\n",
    "\n",
    "from tensorflow.keras.optimizers import Adam\n",
    "from tensorflow.keras.models import Model, Sequential\n",
    "from tensorflow.keras.layers import Input, Dense, Embedding, Flatten, Dropout, Reshape"
   ]
  },
  {
   "cell_type": "code",
   "execution_count": 2,
   "metadata": {},
   "outputs": [
    {
     "data": {
      "text/plain": [
       "((50000, 3675), (50000,))"
      ]
     },
     "execution_count": 2,
     "metadata": {},
     "output_type": "execute_result"
    }
   ],
   "source": [
    "file = h5py.File('xy.h5', 'r')\n",
    "\n",
    "x = file['x'][:]\n",
    "y = file['y'][:]\n",
    "\n",
    "x.shape, y.shape"
   ]
  },
  {
   "cell_type": "code",
   "execution_count": 3,
   "metadata": {},
   "outputs": [
    {
     "data": {
      "text/plain": [
       "((40000, 3675), (40000,), (10000, 3675), (10000,))"
      ]
     },
     "execution_count": 3,
     "metadata": {},
     "output_type": "execute_result"
    }
   ],
   "source": [
    "x_train, x_test, y_train, y_test = train_test_split(x, y, test_size=0.2, random_state=42, stratify=y)\n",
    "x_train.shape, y_train.shape, x_test.shape, y_test.shape"
   ]
  },
  {
   "cell_type": "code",
   "execution_count": null,
   "metadata": {},
   "outputs": [],
   "source": [
    "input = Input(shape=(3675,))\n",
    "embedding = Embedding(input_dim=4096, output_dim=1)(input)\n",
    "flatten = Flatten()(embedding)\n",
    "dropout = Dropout(.25)(flatten)\n",
    "output = Dense(1, activation='sigmoid')(dropout)\n",
    "\n",
    "model = Model(inputs=input, outputs=output)"
   ]
  },
  {
   "cell_type": "code",
   "execution_count": 5,
   "metadata": {},
   "outputs": [
    {
     "name": "stdout",
     "output_type": "stream",
     "text": [
      "Model: \"model\"\n",
      "_________________________________________________________________\n",
      " Layer (type)                Output Shape              Param #   \n",
      "=================================================================\n",
      " input_1 (InputLayer)        [(None, 3675)]            0         \n",
      "                                                                 \n",
      " embedding (Embedding)       (None, 3675, 1)           4096      \n",
      "                                                                 \n",
      " flatten (Flatten)           (None, 3675)              0         \n",
      "                                                                 \n",
      " dropout (Dropout)           (None, 3675)              0         \n",
      "                                                                 \n",
      " dense (Dense)               (None, 1)                 3676      \n",
      "                                                                 \n",
      "=================================================================\n",
      "Total params: 7772 (30.36 KB)\n",
      "Trainable params: 7772 (30.36 KB)\n",
      "Non-trainable params: 0 (0.00 Byte)\n",
      "_________________________________________________________________\n"
     ]
    }
   ],
   "source": [
    "model.summary()"
   ]
  },
  {
   "cell_type": "code",
   "execution_count": null,
   "metadata": {},
   "outputs": [
    {
     "name": "stdout",
     "output_type": "stream",
     "text": [
      "Epoch 1/32\n",
      "10/10 [==============================] - 6s 516ms/step - loss: 0.6942 - accuracy: 0.4951 - mse: 0.2505 - val_loss: 0.6931 - val_accuracy: 0.4994 - val_mse: 0.2500\n",
      "Epoch 2/32\n",
      "10/10 [==============================] - 4s 417ms/step - loss: 0.6936 - accuracy: 0.5062 - mse: 0.2502 - val_loss: 0.6931 - val_accuracy: 0.5003 - val_mse: 0.2500\n",
      "Epoch 3/32\n",
      "10/10 [==============================] - 5s 443ms/step - loss: 0.6937 - accuracy: 0.5032 - mse: 0.2503 - val_loss: 0.6931 - val_accuracy: 0.5025 - val_mse: 0.2500\n",
      "Epoch 4/32\n",
      "10/10 [==============================] - 4s 430ms/step - loss: 0.6933 - accuracy: 0.5045 - mse: 0.2501 - val_loss: 0.6931 - val_accuracy: 0.5045 - val_mse: 0.2500\n",
      "Epoch 5/32\n",
      "10/10 [==============================] - 4s 440ms/step - loss: 0.6935 - accuracy: 0.4996 - mse: 0.2502 - val_loss: 0.6931 - val_accuracy: 0.5082 - val_mse: 0.2500\n",
      "Epoch 6/32\n",
      "10/10 [==============================] - 4s 429ms/step - loss: 0.6936 - accuracy: 0.5016 - mse: 0.2502 - val_loss: 0.6931 - val_accuracy: 0.5084 - val_mse: 0.2500\n",
      "Epoch 7/32\n",
      "10/10 [==============================] - 5s 475ms/step - loss: 0.6934 - accuracy: 0.5042 - mse: 0.2501 - val_loss: 0.6931 - val_accuracy: 0.5063 - val_mse: 0.2500\n",
      "Epoch 8/32\n",
      "10/10 [==============================] - 5s 482ms/step - loss: 0.6935 - accuracy: 0.4997 - mse: 0.2502 - val_loss: 0.6931 - val_accuracy: 0.5090 - val_mse: 0.2500\n",
      "Epoch 9/32\n",
      "10/10 [==============================] - 5s 496ms/step - loss: 0.6931 - accuracy: 0.5054 - mse: 0.2500 - val_loss: 0.6931 - val_accuracy: 0.5087 - val_mse: 0.2500\n",
      "Epoch 10/32\n",
      "10/10 [==============================] - 4s 435ms/step - loss: 0.6930 - accuracy: 0.5076 - mse: 0.2499 - val_loss: 0.6930 - val_accuracy: 0.5086 - val_mse: 0.2499\n",
      "Epoch 11/32\n",
      "10/10 [==============================] - 4s 430ms/step - loss: 0.6934 - accuracy: 0.5027 - mse: 0.2501 - val_loss: 0.6930 - val_accuracy: 0.5099 - val_mse: 0.2499\n",
      "Epoch 12/32\n",
      "10/10 [==============================] - 5s 449ms/step - loss: 0.6934 - accuracy: 0.5037 - mse: 0.2501 - val_loss: 0.6930 - val_accuracy: 0.5098 - val_mse: 0.2499\n",
      "Epoch 13/32\n",
      "10/10 [==============================] - 4s 434ms/step - loss: 0.6933 - accuracy: 0.5059 - mse: 0.2501 - val_loss: 0.6930 - val_accuracy: 0.5116 - val_mse: 0.2499\n",
      "Epoch 14/32\n",
      "10/10 [==============================] - 5s 469ms/step - loss: 0.6931 - accuracy: 0.5051 - mse: 0.2500 - val_loss: 0.6930 - val_accuracy: 0.5131 - val_mse: 0.2499\n",
      "Epoch 15/32\n",
      "10/10 [==============================] - 5s 453ms/step - loss: 0.6930 - accuracy: 0.5095 - mse: 0.2499 - val_loss: 0.6930 - val_accuracy: 0.5133 - val_mse: 0.2499\n",
      "Epoch 16/32\n",
      "10/10 [==============================] - 5s 508ms/step - loss: 0.6932 - accuracy: 0.5089 - mse: 0.2500 - val_loss: 0.6930 - val_accuracy: 0.5141 - val_mse: 0.2499\n",
      "Epoch 17/32\n",
      "10/10 [==============================] - 5s 463ms/step - loss: 0.6929 - accuracy: 0.5070 - mse: 0.2499 - val_loss: 0.6929 - val_accuracy: 0.5160 - val_mse: 0.2499\n",
      "Epoch 18/32\n",
      "10/10 [==============================] - 5s 472ms/step - loss: 0.6931 - accuracy: 0.5080 - mse: 0.2500 - val_loss: 0.6929 - val_accuracy: 0.5152 - val_mse: 0.2499\n",
      "Epoch 19/32\n",
      "10/10 [==============================] - 5s 473ms/step - loss: 0.6930 - accuracy: 0.5070 - mse: 0.2499 - val_loss: 0.6929 - val_accuracy: 0.5172 - val_mse: 0.2499\n",
      "Epoch 20/32\n"
     ]
    }
   ],
   "source": [
    "optimizer = Adam(learning_rate=.0001)\n",
    "model.compile(optimizer=optimizer, loss='binary_crossentropy', metrics=['accuracy','mse'])\n",
    "history = model.fit(x_train, y_train, validation_data=(x_test, y_test), epochs=32, batch_size=4096)"
   ]
  },
  {
   "cell_type": "code",
   "execution_count": null,
   "metadata": {},
   "outputs": [],
   "source": [
    "plt.plot(history.history['loss'])\n",
    "plt.plot(history.history['val_loss'])\n",
    "\n",
    "plt.show()"
   ]
  },
  {
   "cell_type": "code",
   "execution_count": null,
   "metadata": {},
   "outputs": [],
   "source": [
    "plt.plot(history.history['accuracy'])\n",
    "plt.plot(history.history['val_accuracy'])\n",
    "\n",
    "plt.show()"
   ]
  }
 ],
 "metadata": {
  "kernelspec": {
   "display_name": "Python 3",
   "language": "python",
   "name": "python3"
  },
  "language_info": {
   "codemirror_mode": {
    "name": "ipython",
    "version": 3
   },
   "file_extension": ".py",
   "mimetype": "text/x-python",
   "name": "python",
   "nbconvert_exporter": "python",
   "pygments_lexer": "ipython3",
   "version": "3.10.11"
  }
 },
 "nbformat": 4,
 "nbformat_minor": 2
}
