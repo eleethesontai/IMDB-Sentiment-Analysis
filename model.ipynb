{
 "cells": [
  {
   "cell_type": "code",
   "execution_count": 1,
   "metadata": {},
   "outputs": [
    {
     "name": "stderr",
     "output_type": "stream",
     "text": [
      "2024-10-30 13:32:44.330190: I tensorflow/core/platform/cpu_feature_guard.cc:182] This TensorFlow binary is optimized to use available CPU instructions in performance-critical operations.\n",
      "To enable the following instructions: AVX2 FMA, in other operations, rebuild TensorFlow with the appropriate compiler flags.\n"
     ]
    }
   ],
   "source": [
    "import pandas as pd\n",
    "import numpy as np\n",
    "import h5py\n",
    "import matplotlib.pyplot as plt\n",
    "\n",
    "from sklearn.model_selection import train_test_split\n",
    "\n",
    "from tensorflow.keras.optimizers import Adam\n",
    "from tensorflow.keras.models import Sequential\n",
    "from tensorflow.keras.layers import Input, Dense, Embedding, Flatten"
   ]
  },
  {
   "cell_type": "code",
   "execution_count": 2,
   "metadata": {},
   "outputs": [
    {
     "data": {
      "text/plain": [
       "((50000, 3674), (50000,))"
      ]
     },
     "execution_count": 2,
     "metadata": {},
     "output_type": "execute_result"
    }
   ],
   "source": [
    "file = h5py.File('xy.h5', 'r')\n",
    "\n",
    "x = file['x'][:]\n",
    "y = file['y'][:]\n",
    "\n",
    "x.shape, y.shape"
   ]
  },
  {
   "cell_type": "code",
   "execution_count": 3,
   "metadata": {},
   "outputs": [
    {
     "data": {
      "text/plain": [
       "((40000, 3674), (40000,), (10000, 3674), (10000,))"
      ]
     },
     "execution_count": 3,
     "metadata": {},
     "output_type": "execute_result"
    }
   ],
   "source": [
    "x_train, x_test, y_train, y_test = train_test_split(x, y, test_size=0.2, random_state=42, stratify=y)\n",
    "x_train.shape, y_train.shape, x_test.shape, y_test.shape"
   ]
  },
  {
   "cell_type": "code",
   "execution_count": 4,
   "metadata": {},
   "outputs": [],
   "source": [
    "model = Sequential([\n",
    "    Input(shape=(3674,)),\n",
    "    Embedding(input_dim=4096, output_dim=64, mask_zero=True),\n",
    "    Flatten(),\n",
    "    Dense(1, activation='sigmoid')\n",
    "])"
   ]
  },
  {
   "cell_type": "code",
   "execution_count": 5,
   "metadata": {},
   "outputs": [
    {
     "name": "stdout",
     "output_type": "stream",
     "text": [
      "Model: \"sequential\"\n",
      "_________________________________________________________________\n",
      " Layer (type)                Output Shape              Param #   \n",
      "=================================================================\n",
      " embedding (Embedding)       (None, 3674, 64)          262144    \n",
      "                                                                 \n",
      " flatten (Flatten)           (None, 235136)            0         \n",
      "                                                                 \n",
      " dense (Dense)               (None, 1)                 235137    \n",
      "                                                                 \n",
      "=================================================================\n",
      "Total params: 497281 (1.90 MB)\n",
      "Trainable params: 497281 (1.90 MB)\n",
      "Non-trainable params: 0 (0.00 Byte)\n",
      "_________________________________________________________________\n"
     ]
    }
   ],
   "source": [
    "model.summary()"
   ]
  },
  {
   "cell_type": "code",
   "execution_count": 6,
   "metadata": {},
   "outputs": [
    {
     "name": "stdout",
     "output_type": "stream",
     "text": [
      "Epoch 1/32\n",
      "5/5 [==============================] - 24s 5s/step - loss: 0.7041 - accuracy: 0.5015 - mse: 0.2554 - val_loss: 0.7073 - val_accuracy: 0.5000 - val_mse: 0.2570\n",
      "Epoch 2/32\n",
      "5/5 [==============================] - 23s 5s/step - loss: 0.6995 - accuracy: 0.5007 - mse: 0.2531 - val_loss: 0.7015 - val_accuracy: 0.5000 - val_mse: 0.2541\n",
      "Epoch 3/32\n",
      "5/5 [==============================] - 23s 5s/step - loss: 0.6954 - accuracy: 0.5023 - mse: 0.2511 - val_loss: 0.6975 - val_accuracy: 0.5000 - val_mse: 0.2521\n",
      "Epoch 4/32\n",
      "5/5 [==============================] - 28s 6s/step - loss: 0.6943 - accuracy: 0.5039 - mse: 0.2506 - val_loss: 0.6935 - val_accuracy: 0.5005 - val_mse: 0.2502\n",
      "Epoch 5/32\n",
      "5/5 [==============================] - 23s 5s/step - loss: 0.6927 - accuracy: 0.5091 - mse: 0.2498 - val_loss: 0.6919 - val_accuracy: 0.5276 - val_mse: 0.2494\n",
      "Epoch 6/32\n",
      "5/5 [==============================] - 23s 5s/step - loss: 0.6918 - accuracy: 0.5096 - mse: 0.2493 - val_loss: 0.6919 - val_accuracy: 0.5237 - val_mse: 0.2494\n",
      "Epoch 7/32\n",
      "5/5 [==============================] - 23s 5s/step - loss: 0.6902 - accuracy: 0.5349 - mse: 0.2485 - val_loss: 0.6920 - val_accuracy: 0.5212 - val_mse: 0.2494\n",
      "Epoch 8/32\n",
      "5/5 [==============================] - 23s 5s/step - loss: 0.6898 - accuracy: 0.5489 - mse: 0.2483 - val_loss: 0.6912 - val_accuracy: 0.5398 - val_mse: 0.2490\n",
      "Epoch 9/32\n",
      "5/5 [==============================] - 23s 5s/step - loss: 0.6889 - accuracy: 0.5519 - mse: 0.2479 - val_loss: 0.6906 - val_accuracy: 0.5242 - val_mse: 0.2487\n",
      "Epoch 10/32\n",
      "5/5 [==============================] - 23s 5s/step - loss: 0.6879 - accuracy: 0.5552 - mse: 0.2474 - val_loss: 0.6899 - val_accuracy: 0.5475 - val_mse: 0.2484\n",
      "Epoch 11/32\n",
      "5/5 [==============================] - 23s 5s/step - loss: 0.6869 - accuracy: 0.5571 - mse: 0.2469 - val_loss: 0.6891 - val_accuracy: 0.5326 - val_mse: 0.2480\n",
      "Epoch 12/32\n",
      "5/5 [==============================] - 23s 5s/step - loss: 0.6858 - accuracy: 0.5677 - mse: 0.2464 - val_loss: 0.6881 - val_accuracy: 0.5533 - val_mse: 0.2475\n",
      "Epoch 13/32\n",
      "5/5 [==============================] - 23s 5s/step - loss: 0.6845 - accuracy: 0.5623 - mse: 0.2457 - val_loss: 0.6870 - val_accuracy: 0.5476 - val_mse: 0.2469\n",
      "Epoch 14/32\n",
      "5/5 [==============================] - 25s 5s/step - loss: 0.6831 - accuracy: 0.5953 - mse: 0.2450 - val_loss: 0.6857 - val_accuracy: 0.5692 - val_mse: 0.2463\n",
      "Epoch 15/32\n",
      "5/5 [==============================] - 24s 5s/step - loss: 0.6814 - accuracy: 0.5735 - mse: 0.2441 - val_loss: 0.6841 - val_accuracy: 0.5580 - val_mse: 0.2455\n",
      "Epoch 16/32\n",
      "5/5 [==============================] - 51s 9s/step - loss: 0.6793 - accuracy: 0.5992 - mse: 0.2431 - val_loss: 0.6824 - val_accuracy: 0.6354 - val_mse: 0.2447\n",
      "Epoch 17/32\n",
      "5/5 [==============================] - 23s 5s/step - loss: 0.6771 - accuracy: 0.6492 - mse: 0.2420 - val_loss: 0.6802 - val_accuracy: 0.5574 - val_mse: 0.2436\n",
      "Epoch 18/32\n",
      "5/5 [==============================] - 23s 5s/step - loss: 0.6745 - accuracy: 0.6011 - mse: 0.2407 - val_loss: 0.6777 - val_accuracy: 0.6587 - val_mse: 0.2423\n",
      "Epoch 19/32\n",
      "5/5 [==============================] - 23s 5s/step - loss: 0.6716 - accuracy: 0.6719 - mse: 0.2393 - val_loss: 0.6745 - val_accuracy: 0.5909 - val_mse: 0.2407\n",
      "Epoch 20/32\n",
      "5/5 [==============================] - 24s 5s/step - loss: 0.6680 - accuracy: 0.6447 - mse: 0.2375 - val_loss: 0.6712 - val_accuracy: 0.6795 - val_mse: 0.2391\n",
      "Epoch 21/32\n",
      "5/5 [==============================] - 23s 5s/step - loss: 0.6644 - accuracy: 0.6801 - mse: 0.2357 - val_loss: 0.6672 - val_accuracy: 0.6337 - val_mse: 0.2371\n",
      "Epoch 22/32\n",
      "5/5 [==============================] - 29s 6s/step - loss: 0.6602 - accuracy: 0.7001 - mse: 0.2336 - val_loss: 0.6626 - val_accuracy: 0.6836 - val_mse: 0.2348\n",
      "Epoch 23/32\n",
      "5/5 [==============================] - 23s 5s/step - loss: 0.6552 - accuracy: 0.6798 - mse: 0.2312 - val_loss: 0.6579 - val_accuracy: 0.7048 - val_mse: 0.2325\n",
      "Epoch 24/32\n",
      "5/5 [==============================] - 24s 5s/step - loss: 0.6501 - accuracy: 0.7276 - mse: 0.2286 - val_loss: 0.6529 - val_accuracy: 0.6836 - val_mse: 0.2301\n",
      "Epoch 25/32\n",
      "5/5 [==============================] - 23s 5s/step - loss: 0.6443 - accuracy: 0.7171 - mse: 0.2258 - val_loss: 0.6474 - val_accuracy: 0.7185 - val_mse: 0.2273\n",
      "Epoch 26/32\n",
      "5/5 [==============================] - 23s 5s/step - loss: 0.6382 - accuracy: 0.7392 - mse: 0.2228 - val_loss: 0.6414 - val_accuracy: 0.7072 - val_mse: 0.2244\n",
      "Epoch 27/32\n",
      "5/5 [==============================] - 23s 5s/step - loss: 0.6318 - accuracy: 0.7409 - mse: 0.2197 - val_loss: 0.6348 - val_accuracy: 0.7307 - val_mse: 0.2212\n",
      "Epoch 28/32\n",
      "5/5 [==============================] - 23s 5s/step - loss: 0.6249 - accuracy: 0.7485 - mse: 0.2163 - val_loss: 0.6280 - val_accuracy: 0.7338 - val_mse: 0.2179\n",
      "Epoch 29/32\n",
      "5/5 [==============================] - 23s 5s/step - loss: 0.6178 - accuracy: 0.7545 - mse: 0.2129 - val_loss: 0.6210 - val_accuracy: 0.7408 - val_mse: 0.2145\n",
      "Epoch 30/32\n",
      "5/5 [==============================] - 23s 5s/step - loss: 0.6104 - accuracy: 0.7582 - mse: 0.2094 - val_loss: 0.6137 - val_accuracy: 0.7448 - val_mse: 0.2110\n",
      "Epoch 31/32\n",
      "5/5 [==============================] - 23s 5s/step - loss: 0.6029 - accuracy: 0.7629 - mse: 0.2058 - val_loss: 0.6064 - val_accuracy: 0.7453 - val_mse: 0.2076\n",
      "Epoch 32/32\n",
      "5/5 [==============================] - 23s 5s/step - loss: 0.5951 - accuracy: 0.7654 - mse: 0.2022 - val_loss: 0.5988 - val_accuracy: 0.7529 - val_mse: 0.2040\n"
     ]
    }
   ],
   "source": [
    "optimizer = Adam(learning_rate=.0001)\n",
    "model.compile(optimizer=optimizer, loss='binary_crossentropy', metrics=['accuracy','mse'])\n",
    "history = model.fit(x_train, y_train, validation_data=(x_test, y_test), epochs=32, batch_size=8192)"
   ]
  },
  {
   "cell_type": "code",
   "execution_count": 7,
   "metadata": {},
   "outputs": [
    {
     "data": {
      "image/png": "[encoded data removed]",
      "text/plain": [
       "<Figure size 640x480 with 1 Axes>"
      ]
     },
     "metadata": {},
     "output_type": "display_data"
    }
   ],
   "source": [
    "plt.plot(history.history['loss'])\n",
    "plt.plot(history.history['val_loss'])\n",
    "\n",
    "plt.show()"
   ]
  }
 ],
 "metadata": {
  "kernelspec": {
   "display_name": "Python 3",
   "language": "python",
   "name": "python3"
  },
  "language_info": {
   "codemirror_mode": {
    "name": "ipython",
    "version": 3
   },
   "file_extension": ".py",
   "mimetype": "text/x-python",
   "name": "python",
   "nbconvert_exporter": "python",
   "pygments_lexer": "ipython3",
   "version": "3.10.11"
  }
 },
 "nbformat": 4,
 "nbformat_minor": 2
}
