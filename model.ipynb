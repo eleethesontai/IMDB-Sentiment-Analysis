{
 "cells": [
  {
   "cell_type": "code",
   "execution_count": 1,
   "metadata": {},
   "outputs": [
    {
     "name": "stderr",
     "output_type": "stream",
     "text": [
      "2024-10-21 08:06:07.683100: I tensorflow/core/platform/cpu_feature_guard.cc:182] This TensorFlow binary is optimized to use available CPU instructions in performance-critical operations.\n",
      "To enable the following instructions: AVX2 FMA, in other operations, rebuild TensorFlow with the appropriate compiler flags.\n"
     ]
    }
   ],
   "source": [
    "import pandas as pd\n",
    "import numpy as np\n",
    "import h5py\n",
    "import matplotlib.pyplot as plt\n",
    "\n",
    "from sklearn.model_selection import train_test_split\n",
    "\n",
    "from tensorflow.keras.optimizers import Adam\n",
    "from tensorflow.keras.models import Sequential\n",
    "from tensorflow.keras.layers import Input, Dense, Embedding, Flatten"
   ]
  },
  {
   "cell_type": "code",
   "execution_count": 2,
   "metadata": {},
   "outputs": [
    {
     "data": {
      "text/plain": [
       "((50000, 13704), (50000, 13704), 208, 29)"
      ]
     },
     "execution_count": 2,
     "metadata": {},
     "output_type": "execute_result"
    }
   ],
   "source": [
    "file = h5py.File('bpe_xy.h5', 'r')\n",
    "\n",
    "x = file['x'][:].astype(np.uint8)\n",
    "y = file['y'][:].astype(np.uint8)\n",
    "\n",
    "x.shape, y.shape, len(np.unique(x)), len(np.unique(y))"
   ]
  },
  {
   "cell_type": "code",
   "execution_count": 3,
   "metadata": {},
   "outputs": [
    {
     "data": {
      "text/plain": [
       "((40000, 13704), (40000, 13704), (10000, 13704), (10000, 13704))"
      ]
     },
     "execution_count": 3,
     "metadata": {},
     "output_type": "execute_result"
    }
   ],
   "source": [
    "x_train, x_test, y_train, y_test = train_test_split(x, y, test_size=0.2, random_state=42)\n",
    "x_train.shape, y_train.shape, x_test.shape, y_test.shape"
   ]
  },
  {
   "cell_type": "code",
   "execution_count": 4,
   "metadata": {},
   "outputs": [],
   "source": [
    "model = Sequential([\n",
    "    Input(shape=(13704,)),\n",
    "    Embedding(input_dim=209, output_dim=4),\n",
    "    Flatten(),\n",
    "    Dense(32, activation='relu'),\n",
    "    Dense(13704, activation='relu')\n",
    "])"
   ]
  },
  {
   "cell_type": "code",
   "execution_count": 5,
   "metadata": {},
   "outputs": [
    {
     "name": "stdout",
     "output_type": "stream",
     "text": [
      "Model: \"sequential\"\n",
      "_________________________________________________________________\n",
      " Layer (type)                Output Shape              Param #   \n",
      "=================================================================\n",
      " embedding (Embedding)       (None, 13704, 4)          836       \n",
      "                                                                 \n",
      " flatten (Flatten)           (None, 54816)             0         \n",
      "                                                                 \n",
      " dense (Dense)               (None, 32)                1754144   \n",
      "                                                                 \n",
      " dense_1 (Dense)             (None, 13704)             452232    \n",
      "                                                                 \n",
      "=================================================================\n",
      "Total params: 2207212 (8.42 MB)\n",
      "Trainable params: 2207212 (8.42 MB)\n",
      "Non-trainable params: 0 (0.00 Byte)\n",
      "_________________________________________________________________\n"
     ]
    }
   ],
   "source": [
    "model.summary()"
   ]
  },
  {
   "cell_type": "code",
   "execution_count": 6,
   "metadata": {},
   "outputs": [
    {
     "name": "stdout",
     "output_type": "stream",
     "text": [
      "Epoch 1/32\n",
      "5/5 [==============================] - 27s 5s/step - loss: 6.8993 - mse: 489.6584 - val_loss: 6.6447 - val_mse: 489.0113\n",
      "Epoch 2/32\n",
      "5/5 [==============================] - 23s 5s/step - loss: 6.5845 - mse: 480.9377 - val_loss: 6.4943 - val_mse: 482.9215\n",
      "Epoch 3/32\n",
      "5/5 [==============================] - 25s 5s/step - loss: 6.4673 - mse: 478.2107 - val_loss: 6.4727 - val_mse: 478.6057\n",
      "Epoch 4/32\n",
      "5/5 [==============================] - 25s 5s/step - loss: 6.4042 - mse: 471.1396 - val_loss: 6.3993 - val_mse: 472.7907\n",
      "Epoch 5/32\n",
      "5/5 [==============================] - 24s 5s/step - loss: 6.3376 - mse: 467.0956 - val_loss: 6.3472 - val_mse: 465.6643\n",
      "Epoch 6/32\n",
      "5/5 [==============================] - 24s 5s/step - loss: 6.2856 - mse: 458.5424 - val_loss: 6.3132 - val_mse: 459.1088\n",
      "Epoch 7/32\n",
      "5/5 [==============================] - 24s 5s/step - loss: 6.2379 - mse: 450.4354 - val_loss: 6.2585 - val_mse: 448.3672\n",
      "Epoch 8/32\n",
      "5/5 [==============================] - 25s 5s/step - loss: 6.1824 - mse: 439.3820 - val_loss: 6.1920 - val_mse: 434.5768\n",
      "Epoch 9/32\n",
      "5/5 [==============================] - 22s 4s/step - loss: 6.1035 - mse: 423.2314 - val_loss: 6.0892 - val_mse: 414.2346\n",
      "Epoch 10/32\n",
      "5/5 [==============================] - 25s 5s/step - loss: 5.9769 - mse: 399.3613 - val_loss: 5.9177 - val_mse: 385.0862\n",
      "Epoch 11/32\n",
      "5/5 [==============================] - 23s 5s/step - loss: 5.7660 - mse: 367.8747 - val_loss: 5.6287 - val_mse: 353.1591\n",
      "Epoch 12/32\n",
      "5/5 [==============================] - 23s 5s/step - loss: 5.4082 - mse: 343.3885 - val_loss: 5.2638 - val_mse: 353.1269\n",
      "Epoch 13/32\n",
      "5/5 [==============================] - 21s 4s/step - loss: 5.3162 - mse: 359.8498 - val_loss: 5.3346 - val_mse: 362.6042\n",
      "Epoch 14/32\n",
      "5/5 [==============================] - 23s 5s/step - loss: 5.2165 - mse: 348.4420 - val_loss: 5.2834 - val_mse: 343.8844\n",
      "Epoch 15/32\n",
      "5/5 [==============================] - 23s 5s/step - loss: 5.2263 - mse: 339.2437 - val_loss: 5.2156 - val_mse: 345.7026\n",
      "Epoch 16/32\n",
      "5/5 [==============================] - 23s 5s/step - loss: 5.1515 - mse: 346.1616 - val_loss: 5.2075 - val_mse: 356.0217\n",
      "Epoch 17/32\n",
      "5/5 [==============================] - 23s 5s/step - loss: 5.1360 - mse: 349.4658 - val_loss: 5.1643 - val_mse: 348.4903\n",
      "Epoch 18/32\n",
      "5/5 [==============================] - 24s 5s/step - loss: 5.1094 - mse: 342.5369 - val_loss: 5.1524 - val_mse: 346.8025\n",
      "Epoch 19/32\n",
      "5/5 [==============================] - 25s 5s/step - loss: 5.0869 - mse: 344.5335 - val_loss: 5.1332 - val_mse: 351.5899\n",
      "Epoch 20/32\n",
      "5/5 [==============================] - 23s 5s/step - loss: 5.0748 - mse: 346.5956 - val_loss: 5.1192 - val_mse: 348.7784\n",
      "Epoch 21/32\n",
      "5/5 [==============================] - 25s 5s/step - loss: 5.0612 - mse: 343.7626 - val_loss: 5.1059 - val_mse: 348.4417\n",
      "Epoch 22/32\n",
      "5/5 [==============================] - 25s 5s/step - loss: 5.0490 - mse: 345.1788 - val_loss: 5.0985 - val_mse: 350.4272\n",
      "Epoch 23/32\n",
      "5/5 [==============================] - 23s 5s/step - loss: 5.0412 - mse: 345.3841 - val_loss: 5.0904 - val_mse: 348.6781\n",
      "Epoch 24/32\n",
      "5/5 [==============================] - 19s 4s/step - loss: 5.0341 - mse: 344.5604 - val_loss: 5.0833 - val_mse: 349.7253\n",
      "Epoch 25/32\n",
      "5/5 [==============================] - 20s 4s/step - loss: 5.0283 - mse: 345.5499 - val_loss: 5.0796 - val_mse: 349.5019\n",
      "Epoch 26/32\n",
      "5/5 [==============================] - 20s 4s/step - loss: 5.0242 - mse: 344.8192 - val_loss: 5.0753 - val_mse: 349.0617\n",
      "Epoch 27/32\n",
      "5/5 [==============================] - 20s 4s/step - loss: 5.0198 - mse: 345.0056 - val_loss: 5.0710 - val_mse: 349.5880\n",
      "Epoch 28/32\n",
      "5/5 [==============================] - 20s 4s/step - loss: 5.0167 - mse: 345.0560 - val_loss: 5.0676 - val_mse: 349.1558\n",
      "Epoch 29/32\n",
      "5/5 [==============================] - 21s 4s/step - loss: 5.0131 - mse: 344.9082 - val_loss: 5.0647 - val_mse: 349.4439\n",
      "Epoch 30/32\n",
      "5/5 [==============================] - 19s 4s/step - loss: 5.0103 - mse: 345.1407 - val_loss: 5.0620 - val_mse: 349.3912\n",
      "Epoch 31/32\n",
      "5/5 [==============================] - 19s 4s/step - loss: 5.0075 - mse: 345.0709 - val_loss: 5.0594 - val_mse: 349.3884\n",
      "Epoch 32/32\n",
      "5/5 [==============================] - 19s 4s/step - loss: 5.0051 - mse: 345.0354 - val_loss: 5.0574 - val_mse: 349.4614\n"
     ]
    }
   ],
   "source": [
    "optimizer = Adam(learning_rate=.001)\n",
    "model.compile(optimizer=optimizer, loss='mae', metrics=['mse'])\n",
    "history = model.fit(x_train, y_train, validation_data=(x_test, y_test), epochs=32, batch_size=8192)"
   ]
  },
  {
   "cell_type": "code",
   "execution_count": 7,
   "metadata": {},
   "outputs": [
    {
     "data": {
      "image/png": "[encoded data removed]",
      "text/plain": [
       "<Figure size 640x480 with 1 Axes>"
      ]
     },
     "metadata": {},
     "output_type": "display_data"
    }
   ],
   "source": [
    "plt.plot(history.history['loss'])\n",
    "plt.plot(history.history['val_loss'])\n",
    "\n",
    "plt.show()"
   ]
  },
  {
   "cell_type": "code",
   "execution_count": 8,
   "metadata": {},
   "outputs": [
    {
     "data": {
      "text/plain": [
       "array([[60, 84, 87, ...,  1,  1,  1]], dtype=uint8)"
      ]
     },
     "execution_count": 8,
     "metadata": {},
     "output_type": "execute_result"
    }
   ],
   "source": [
    "test = x[0].reshape(1,-1)\n",
    "test"
   ]
  },
  {
   "cell_type": "code",
   "execution_count": 9,
   "metadata": {},
   "outputs": [
    {
     "name": "stdout",
     "output_type": "stream",
     "text": [
      "1/1 [==============================] - 0s 206ms/step\n"
     ]
    },
    {
     "data": {
      "text/plain": [
       "array([[76.44854   ,  0.        ,  0.        , ...,  1.0062346 ,\n",
       "         0.        ,  0.87625504]], dtype=float32)"
      ]
     },
     "execution_count": 9,
     "metadata": {},
     "output_type": "execute_result"
    }
   ],
   "source": [
    "model.predict(test)"
   ]
  },
  {
   "cell_type": "code",
   "execution_count": 10,
   "metadata": {},
   "outputs": [
    {
     "data": {
      "text/plain": [
       "array([92, 84, 87, ...,  1,  1,  1], dtype=uint8)"
      ]
     },
     "execution_count": 10,
     "metadata": {},
     "output_type": "execute_result"
    }
   ],
   "source": [
    "y[0]"
   ]
  }
 ],
 "metadata": {
  "kernelspec": {
   "display_name": "Python 3",
   "language": "python",
   "name": "python3"
  },
  "language_info": {
   "codemirror_mode": {
    "name": "ipython",
    "version": 3
   },
   "file_extension": ".py",
   "mimetype": "text/x-python",
   "name": "python",
   "nbconvert_exporter": "python",
   "pygments_lexer": "ipython3",
   "version": "3.10.11"
  }
 },
 "nbformat": 4,
 "nbformat_minor": 2
}
