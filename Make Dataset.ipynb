{
 "cells": [
  {
   "cell_type": "code",
   "execution_count": null,
   "metadata": {},
   "outputs": [],
   "source": [
    "import tarfile\n",
    "import os\n",
    "import pandas as pd\n",
    "import requests"
   ]
  },
  {
   "cell_type": "code",
   "execution_count": null,
   "metadata": {},
   "outputs": [],
   "source": [
    "# download the training data\n",
    "url = 'https://ai.stanford.edu/~amaas/data/sentiment/aclImdb_v1.tar.gz'\n",
    "\n",
    "file_path = 'aclImdb_v1.tar.gz'\n",
    "response = requests.get(url)\n",
    "\n",
    "if response.status_code == 200:\n",
    "    with open(file_path, 'wb') as file:\n",
    "        file.write(response.content)\n",
    "    print(f\"Downloaded {file_path} successfully!\")\n",
    "else:\n",
    "    print(\"Failed to download the file.\")\n"
   ]
  },
  {
   "cell_type": "code",
   "execution_count": null,
   "metadata": {},
   "outputs": [],
   "source": [
    "# decompress\n",
    "with tarfile.open(file_path, 'r') as tar: tar.extractall()"
   ]
  },
  {
   "cell_type": "code",
   "execution_count": null,
   "metadata": {},
   "outputs": [],
   "source": [
    "# import the data into an array\n",
    "folders = [\n",
    "    {\"folder\": 'aclimdb/train/neg', \"label\": 0},\n",
    "    {\"folder\": 'aclimdb/train/pos', \"label\": 1},\n",
    "    {\"folder\": 'aclimdb/test/neg', \"label\": 0},\n",
    "    {\"folder\": 'aclimdb/test/pos', \"label\": 1},\n",
    "]\n",
    "results = []\n",
    "\n",
    "for d in folders:\n",
    "    for f in os.listdir(d['folder']):\n",
    "        with open(os.path.join(d['folder'],f), 'r', encoding='UTF-8') as file:\n",
    "            results.append([file.read(),d['label']])"
   ]
  },
  {
   "cell_type": "code",
   "execution_count": null,
   "metadata": {},
   "outputs": [],
   "source": [
    "# write to csv\n",
    "data = pd.DataFrame(results, columns=['Review','Sentiment'])\n",
    "data.to_csv('Reviews.csv', index=False)"
   ]
  }
 ],
 "metadata": {
  "kernelspec": {
   "display_name": "Python 3",
   "language": "python",
   "name": "python3"
  },
  "language_info": {
   "codemirror_mode": {
    "name": "ipython",
    "version": 3
   },
   "file_extension": ".py",
   "mimetype": "text/x-python",
   "name": "python",
   "nbconvert_exporter": "python",
   "pygments_lexer": "ipython3",
   "version": "3.10.11"
  }
 },
 "nbformat": 4,
 "nbformat_minor": 2
}
