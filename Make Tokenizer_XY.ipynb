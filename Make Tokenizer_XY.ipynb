{
 "cells": [
  {
   "cell_type": "code",
   "execution_count": 1,
   "metadata": {},
   "outputs": [],
   "source": [
    "import pandas as pd\n",
    "import numpy as np\n",
    "import h5py"
   ]
  },
  {
   "cell_type": "code",
   "execution_count": 2,
   "metadata": {},
   "outputs": [],
   "source": [
    "samples = pd.read_csv('Reviews.csv')\n",
    "samples['Sanitized'] = samples['Review'].str.replace(r'', '', regex=True)"
   ]
  },
  {
   "cell_type": "code",
   "execution_count": 3,
   "metadata": {},
   "outputs": [
    {
     "data": {
      "text/plain": [
       "72"
      ]
     },
     "execution_count": 3,
     "metadata": {},
     "output_type": "execute_result"
    }
   ],
   "source": [
    "vocabulary = (\n",
    "    {\n",
    "        '<EOS>': 0,\n",
    "        '<PAD>': 1,\n",
    "        '<OOV>': 2\n",
    "    } |\n",
    "    {chr(i):i-97+0+3 for i in range(97,123)} |\n",
    "    {chr(i):i-65+26+3 for i in range(65,91)} | \n",
    "    {chr(i):i-48+52+3 for i in range(48,58)} | \n",
    "    {\n",
    "        ' ': 65,\n",
    "        '.': 66,\n",
    "        '?': 67,\n",
    "        '!': 68,\n",
    "        '-': 69,\n",
    "        '\\'': 70,\n",
    "        '\"': 71\n",
    "    }\n",
    ")\n",
    "\n",
    "len(vocabulary)"
   ]
  },
  {
   "cell_type": "code",
   "execution_count": 4,
   "metadata": {},
   "outputs": [],
   "source": [
    "samples['x'] = samples['Review'].apply(lambda x: ([c for c in x]+['<EOS>']+(['<PAD>']*16384))[:16384])\n",
    "samples['x'] = samples['x'].apply(lambda x: [vocabulary.get(c,2) for c in x])"
   ]
  },
  {
   "cell_type": "code",
   "execution_count": 5,
   "metadata": {},
   "outputs": [
    {
     "data": {
      "text/plain": [
       "(50000, 16384)"
      ]
     },
     "execution_count": 5,
     "metadata": {},
     "output_type": "execute_result"
    }
   ],
   "source": [
    "x = np.array(samples['x'].tolist()).astype(np.int8)\n",
    "x.shape"
   ]
  },
  {
   "cell_type": "code",
   "execution_count": 6,
   "metadata": {},
   "outputs": [
    {
     "data": {
      "text/plain": [
       "(50000,)"
      ]
     },
     "execution_count": 6,
     "metadata": {},
     "output_type": "execute_result"
    }
   ],
   "source": [
    "y = np.array(samples['Sentiment'].tolist()).astype(np.int8)\n",
    "y.shape"
   ]
  },
  {
   "cell_type": "code",
   "execution_count": 7,
   "metadata": {},
   "outputs": [],
   "source": [
    "file = h5py.File('xy.h5', 'w')\n",
    "\n",
    "file.create_dataset('x', data=x)\n",
    "file.create_dataset('y', data=y)\n",
    "\n",
    "file.close()"
   ]
  }
 ],
 "metadata": {
  "kernelspec": {
   "display_name": "Python 3",
   "language": "python",
   "name": "python3"
  },
  "language_info": {
   "codemirror_mode": {
    "name": "ipython",
    "version": 3
   },
   "file_extension": ".py",
   "mimetype": "text/x-python",
   "name": "python",
   "nbconvert_exporter": "python",
   "pygments_lexer": "ipython3",
   "version": "3.10.11"
  }
 },
 "nbformat": 4,
 "nbformat_minor": 2
}
